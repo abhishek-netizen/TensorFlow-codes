{
  "nbformat": 4,
  "nbformat_minor": 0,
  "metadata": {
    "colab": {
      "name": "Creating  Neural Network Image Classification.ipynb",
      "provenance": []
    },
    "kernelspec": {
      "name": "python3",
      "display_name": "Python 3"
    }
  },
  "cells": [
    {
      "cell_type": "code",
      "metadata": {
        "id": "T8eZRDw6thU-",
        "outputId": "3c3011fe-b720-4ce2-c406-218dfeb26af8",
        "colab": {
          "base_uri": "https://localhost:8080/"
        }
      },
      "source": [
        "%tensorflow_version 2.x  # this line is not required unless you are in a notebook\n",
        "# TensorFlow and tf.keras\n",
        "import tensorflow as tf\n",
        "from tensorflow import keras\n",
        "\n",
        "# Helper libraries\n",
        "import numpy as np\n",
        "import matplotlib.pyplot as plt"
      ],
      "execution_count": 1,
      "outputs": [
        {
          "output_type": "stream",
          "text": [
            "`%tensorflow_version` only switches the major version: 1.x or 2.x.\n",
            "You set: `2.x  # this line is not required unless you are in a notebook`. This will be interpreted as: `2.x`.\n",
            "\n",
            "\n",
            "TensorFlow 2.x selected.\n"
          ],
          "name": "stdout"
        }
      ]
    },
    {
      "cell_type": "markdown",
      "metadata": {
        "id": "9DyIF-yuDnWx"
      },
      "source": [
        "Dataset <br>\n",
        "For this tutorial we will use the MNIST Fashion Dataset. This is a dataset that is included in keras.<br>\n",
        "\n",
        "This dataset includes 60,000 images for training and 10,000 images for validation/testing."
      ]
    },
    {
      "cell_type": "code",
      "metadata": {
        "id": "70jKZtUjEjZR",
        "outputId": "2dbd6f81-a773-4e43-c749-493172799223",
        "colab": {
          "base_uri": "https://localhost:8080/"
        }
      },
      "source": [
        "fashion_mnist = keras.datasets.fashion_mnist  # load dataset\n",
        "\n",
        "(train_images, train_labels), (test_images, test_labels) = fashion_mnist.load_data()  # split into tetsing and training"
      ],
      "execution_count": 4,
      "outputs": [
        {
          "output_type": "stream",
          "text": [
            "Downloading data from https://storage.googleapis.com/tensorflow/tf-keras-datasets/train-labels-idx1-ubyte.gz\n",
            "32768/29515 [=================================] - 0s 0us/step\n",
            "Downloading data from https://storage.googleapis.com/tensorflow/tf-keras-datasets/train-images-idx3-ubyte.gz\n",
            "26427392/26421880 [==============================] - 0s 0us/step\n",
            "Downloading data from https://storage.googleapis.com/tensorflow/tf-keras-datasets/t10k-labels-idx1-ubyte.gz\n",
            "8192/5148 [===============================================] - 0s 0us/step\n",
            "Downloading data from https://storage.googleapis.com/tensorflow/tf-keras-datasets/t10k-images-idx3-ubyte.gz\n",
            "4423680/4422102 [==============================] - 0s 0us/step\n"
          ],
          "name": "stdout"
        }
      ]
    },
    {
      "cell_type": "markdown",
      "metadata": {
        "id": "EEBLgE8hFI7n"
      },
      "source": [
        "Let's have a look at this data to see what we are working with."
      ]
    },
    {
      "cell_type": "code",
      "metadata": {
        "id": "9hIe00GKFJ9_",
        "outputId": "dacdb16e-0325-44be-ea67-361d2ac808e3",
        "colab": {
          "base_uri": "https://localhost:8080/"
        }
      },
      "source": [
        "train_images.shape"
      ],
      "execution_count": 5,
      "outputs": [
        {
          "output_type": "execute_result",
          "data": {
            "text/plain": [
              "(60000, 28, 28)"
            ]
          },
          "metadata": {
            "tags": []
          },
          "execution_count": 5
        }
      ]
    },
    {
      "cell_type": "markdown",
      "metadata": {
        "id": "-KAueBJbFX62"
      },
      "source": [
        "So we've got 60,000 images that are made up of 28x28 pixels (784 in total)."
      ]
    },
    {
      "cell_type": "code",
      "metadata": {
        "id": "JuuIIM1IFN4m",
        "outputId": "a8b19662-991b-4d3d-cf1a-91a5cfd24a6d",
        "colab": {
          "base_uri": "https://localhost:8080/"
        }
      },
      "source": [
        "test_images.shape"
      ],
      "execution_count": 6,
      "outputs": [
        {
          "output_type": "execute_result",
          "data": {
            "text/plain": [
              "(10000, 28, 28)"
            ]
          },
          "metadata": {
            "tags": []
          },
          "execution_count": 6
        }
      ]
    },
    {
      "cell_type": "code",
      "metadata": {
        "id": "0WuSR-ZSFRmQ",
        "outputId": "58e386e9-6e90-410f-e5b7-952fef1e4635",
        "colab": {
          "base_uri": "https://localhost:8080/"
        }
      },
      "source": [
        "train_images[0,23,23] # let's have a look at one pixel"
      ],
      "execution_count": 7,
      "outputs": [
        {
          "output_type": "execute_result",
          "data": {
            "text/plain": [
              "194"
            ]
          },
          "metadata": {
            "tags": []
          },
          "execution_count": 7
        }
      ]
    },
    {
      "cell_type": "markdown",
      "metadata": {
        "id": "m5lqIp_3F7QK"
      },
      "source": [
        "Our pixel values are between 0 and 255, 0 being black and 255 being white. <br>This means we have a grayscale image as there are no color channels."
      ]
    },
    {
      "cell_type": "code",
      "metadata": {
        "id": "cQOdX-nWF8Af",
        "outputId": "e1e1fca3-eaa8-4e2d-89b9-e98a60ec203f",
        "colab": {
          "base_uri": "https://localhost:8080/"
        }
      },
      "source": [
        "train_labels[:20] # let's have a look at the first 20 training labels"
      ],
      "execution_count": 11,
      "outputs": [
        {
          "output_type": "execute_result",
          "data": {
            "text/plain": [
              "array([9, 0, 0, 3, 0, 2, 7, 2, 5, 5, 0, 9, 5, 5, 7, 9, 1, 0, 6, 4],\n",
              "      dtype=uint8)"
            ]
          },
          "metadata": {
            "tags": []
          },
          "execution_count": 11
        }
      ]
    },
    {
      "cell_type": "markdown",
      "metadata": {
        "id": "dpdFHZ7iGcuJ"
      },
      "source": [
        "Our labels are integers ranging from 0 - 9. Each integer represents a specific article of clothing. <br> We'll create an array of label names to indicate which is which."
      ]
    },
    {
      "cell_type": "code",
      "metadata": {
        "id": "b9tX8lAzGd5i"
      },
      "source": [
        "class_names= ['T-shirt/top','Trouser','Pullover','Dress','Coat',\n",
        "              'Sandal','Shirt','Sneaker','Bag','Ankle boot']"
      ],
      "execution_count": 12,
      "outputs": []
    },
    {
      "cell_type": "markdown",
      "metadata": {
        "id": "qAM-ZkUvHF3X"
      },
      "source": [
        "Fianlly let's look at what some of these images look like!"
      ]
    },
    {
      "cell_type": "code",
      "metadata": {
        "id": "AWDy0a_fHGo-",
        "outputId": "967f2b3f-1d28-42cc-e709-f31e7c165580",
        "colab": {
          "base_uri": "https://localhost:8080/",
          "height": 283
        }
      },
      "source": [
        "plt.figure()\n",
        "\n",
        "plt.imshow(train_images[6])\n",
        "plt.colorbar()\n",
        "plt.grid(False)\n",
        "plt.show"
      ],
      "execution_count": 24,
      "outputs": [
        {
          "output_type": "execute_result",
          "data": {
            "text/plain": [
              "<function matplotlib.pyplot.show>"
            ]
          },
          "metadata": {
            "tags": []
          },
          "execution_count": 24
        },
        {
          "output_type": "display_data",
          "data": {
            "image/png": "[encoded data removed]",
            "text/plain": [
              "<Figure size 432x288 with 2 Axes>"
            ]
          },
          "metadata": {
            "tags": [],
            "needs_background": "light"
          }
        }
      ]
    },
    {
      "cell_type": "markdown",
      "metadata": {
        "id": "wMzZSfUpH-Lu"
      },
      "source": [
        "Data Preprocessing<br>\n",
        "The last step before creating our model is to preprocess our data. This simply means applying some prior transformations to our data before feeding it the model. In this case we will simply scale all our greyscale pixel values (0-255) to be between 0 and 1. We can do this by dividing each value in the training and testing sets by 255.0. We do this because smaller values will make it easier for the model to process our values."
      ]
    },
    {
      "cell_type": "code",
      "metadata": {
        "id": "BBhpUXG8IWAY"
      },
      "source": [
        "train_images = train_images / 255.0\n",
        "\n",
        "test_images = test_images / 255.0"
      ],
      "execution_count": 30,
      "outputs": []
    },
    {
      "cell_type": "code",
      "metadata": {
        "id": "NaFGv-DdIwS5",
        "outputId": "a324acbf-4e15-4050-ef5f-6c7407a56239",
        "colab": {
          "base_uri": "https://localhost:8080/"
        }
      },
      "source": [
        "train_images[1]"
      ],
      "execution_count": 32,
      "outputs": [
        {
          "output_type": "execute_result",
          "data": {
            "text/plain": [
              "array([[0.00000000e+00, 0.00000000e+00, 0.00000000e+00, 0.00000000e+00,\n",
              "        0.00000000e+00, 3.63713078e-15, 0.00000000e+00, 0.00000000e+00,\n",
              "        0.00000000e+00, 0.00000000e+00, 1.49122362e-13, 6.83780587e-13,\n",
              "        3.74624470e-13, 1.96405062e-13, 1.74582278e-13, 1.56396624e-13,\n",
              "        3.16430378e-13, 6.11037971e-13, 4.83738394e-13, 5.81940925e-14,\n",
              "        0.00000000e+00, 0.00000000e+00, 0.00000000e+00, 0.00000000e+00,\n",
              "        0.00000000e+00, 0.00000000e+00, 0.00000000e+00, 0.00000000e+00],\n",
              "       [0.00000000e+00, 0.00000000e+00, 0.00000000e+00, 3.63713078e-15,\n",
              "        0.00000000e+00, 0.00000000e+00, 0.00000000e+00, 1.78219408e-13,\n",
              "        4.94649786e-13, 7.96531641e-13, 7.85620249e-13, 8.29265818e-13,\n",
              "        8.58362864e-13, 9.27468349e-13, 9.27468349e-13, 9.27468349e-13,\n",
              "        9.27468349e-13, 7.89257380e-13, 7.81983118e-13, 9.23831218e-13,\n",
              "        8.40177211e-13, 5.81940925e-13, 1.63670885e-13, 0.00000000e+00,\n",
              "        0.00000000e+00, 0.00000000e+00, 0.00000000e+00, 0.00000000e+00],\n",
              "       [0.00000000e+00, 0.00000000e+00, 0.00000000e+00, 0.00000000e+00,\n",
              "        0.00000000e+00, 5.09198309e-14, 6.40135018e-13, 8.07443033e-13,\n",
              "        8.14717295e-13, 7.71071726e-13, 7.38337549e-13, 7.20151895e-13,\n",
              "        7.12877633e-13, 7.27426156e-13, 7.81983118e-13, 7.41974679e-13,\n",
              "        7.34700418e-13, 7.31063287e-13, 7.31063287e-13, 7.31063287e-13,\n",
              "        7.60160333e-13, 7.92894510e-13, 8.14717295e-13, 5.96489448e-13,\n",
              "        0.00000000e+00, 0.00000000e+00, 0.00000000e+00, 0.00000000e+00],\n",
              "       [0.00000000e+00, 0.00000000e+00, 0.00000000e+00, 0.00000000e+00,\n",
              "        0.00000000e+00, 6.83780587e-13, 7.96531641e-13, 7.27426156e-13,\n",
              "        7.20151895e-13, 7.34700418e-13, 7.20151895e-13, 7.23789026e-13,\n",
              "        7.23789026e-13, 7.31063287e-13, 7.12877633e-13, 7.20151895e-13,\n",
              "        7.20151895e-13, 7.27426156e-13, 7.27426156e-13, 7.27426156e-13,\n",
              "        7.27426156e-13, 7.31063287e-13, 7.27426156e-13, 8.18354426e-13,\n",
              "        1.49122362e-13, 0.00000000e+00, 0.00000000e+00, 0.00000000e+00],\n",
              "       [0.00000000e+00, 0.00000000e+00, 0.00000000e+00, 0.00000000e+00,\n",
              "        1.85493670e-13, 7.96531641e-13, 7.23789026e-13, 7.38337549e-13,\n",
              "        7.38337549e-13, 7.71071726e-13, 8.65637126e-13, 9.02008434e-13,\n",
              "        9.09282695e-13, 8.91097041e-13, 9.05645565e-13, 8.94734172e-13,\n",
              "        8.98371303e-13, 9.16556957e-13, 9.02008434e-13, 8.54725734e-13,\n",
              "        7.52886072e-13, 7.38337549e-13, 7.38337549e-13, 8.07443033e-13,\n",
              "        5.09198309e-13, 0.00000000e+00, 0.00000000e+00, 0.00000000e+00],\n",
              "       [0.00000000e+00, 0.00000000e+00, 0.00000000e+00, 0.00000000e+00,\n",
              "        4.21907171e-13, 8.21991557e-13, 7.49248941e-13, 7.41974679e-13,\n",
              "        7.52886072e-13, 7.41974679e-13, 3.67350209e-13, 2.72784809e-13,\n",
              "        1.70945147e-13, 2.65510547e-13, 1.74582278e-13, 1.81856539e-13,\n",
              "        1.63670885e-13, 1.85493670e-13, 2.29139239e-13, 4.10995778e-13,\n",
              "        8.07443033e-13, 7.34700418e-13, 7.49248941e-13, 8.00168772e-13,\n",
              "        8.14717295e-13, 0.00000000e+00, 0.00000000e+00, 0.00000000e+00],\n",
              "       [0.00000000e+00, 0.00000000e+00, 0.00000000e+00, 0.00000000e+00,\n",
              "        7.27426156e-13, 8.07443033e-13, 7.60160333e-13, 7.38337549e-13,\n",
              "        7.81983118e-13, 7.27426156e-13, 0.00000000e+00, 2.54599155e-13,\n",
              "        3.56438817e-13, 0.00000000e+00, 3.74624470e-13, 2.14590716e-13,\n",
              "        2.47324893e-13, 2.58236285e-13, 1.78219408e-13, 0.00000000e+00,\n",
              "        7.96531641e-13, 7.49248941e-13, 7.78345987e-13, 7.63797464e-13,\n",
              "        9.09282695e-13, 1.38210970e-13, 0.00000000e+00, 0.00000000e+00],\n",
              "       [0.00000000e+00, 0.00000000e+00, 0.00000000e+00, 0.00000000e+00,\n",
              "        8.98371303e-13, 7.92894510e-13, 7.71071726e-13, 7.63797464e-13,\n",
              "        7.81983118e-13, 7.78345987e-13, 0.00000000e+00, 9.23831218e-13,\n",
              "        8.83822780e-13, 5.05561179e-13, 9.27468349e-13, 6.32860756e-13,\n",
              "        9.12919826e-13, 9.27468349e-13, 7.45611810e-13, 0.00000000e+00,\n",
              "        7.81983118e-13, 7.89257380e-13, 7.78345987e-13, 7.56523203e-13,\n",
              "        8.00168772e-13, 3.45527424e-13, 0.00000000e+00, 0.00000000e+00],\n",
              "       [0.00000000e+00, 0.00000000e+00, 0.00000000e+00, 1.63670885e-13,\n",
              "        8.21991557e-13, 7.78345987e-13, 7.78345987e-13, 7.81983118e-13,\n",
              "        8.14717295e-13, 7.45611810e-13, 0.00000000e+00, 1.52759493e-13,\n",
              "        1.27299577e-13, 2.18227847e-13, 5.81940925e-14, 6.18312233e-14,\n",
              "        4.36455694e-14, 4.72827002e-14, 2.54599155e-13, 0.00000000e+00,\n",
              "        6.87417718e-13, 7.85620249e-13, 7.71071726e-13, 7.49248941e-13,\n",
              "        7.71071726e-13, 5.67392402e-13, 0.00000000e+00, 0.00000000e+00],\n",
              "       [0.00000000e+00, 0.00000000e+00, 0.00000000e+00, 5.96489448e-13,\n",
              "        8.54725734e-13, 7.78345987e-13, 7.67434595e-13, 8.00168772e-13,\n",
              "        7.85620249e-13, 7.31063287e-13, 1.89130801e-13, 2.58236285e-13,\n",
              "        3.23704640e-13, 3.41890293e-13, 3.01881855e-13, 2.83696201e-13,\n",
              "        2.54599155e-13, 2.76421939e-13, 3.34616032e-13, 3.16430378e-13,\n",
              "        7.49248941e-13, 7.52886072e-13, 8.07443033e-13, 7.74708856e-13,\n",
              "        7.96531641e-13, 7.56523203e-13, 0.00000000e+00, 0.00000000e+00],\n",
              "       [0.00000000e+00, 0.00000000e+00, 0.00000000e+00, 3.85535863e-13,\n",
              "        6.80143456e-13, 8.11080164e-13, 8.61999995e-13, 9.02008434e-13,\n",
              "        7.67434595e-13, 7.20151895e-13, 9.16556957e-13, 9.09282695e-13,\n",
              "        9.02008434e-13, 8.91097041e-13, 9.02008434e-13, 9.16556957e-13,\n",
              "        9.20194088e-13, 9.09282695e-13, 9.16556957e-13, 8.69274257e-13,\n",
              "        7.31063287e-13, 7.71071726e-13, 8.18354426e-13, 7.81983118e-13,\n",
              "        7.01966241e-13, 4.10995778e-13, 0.00000000e+00, 0.00000000e+00],\n",
              "       [0.00000000e+00, 0.00000000e+00, 0.00000000e+00, 0.00000000e+00,\n",
              "        0.00000000e+00, 6.18312233e-14, 1.96405062e-13, 5.78303794e-13,\n",
              "        8.07443033e-13, 7.01966241e-13, 7.56523203e-13, 6.98329110e-13,\n",
              "        7.16514764e-13, 7.27426156e-13, 7.27426156e-13, 7.27426156e-13,\n",
              "        7.27426156e-13, 7.31063287e-13, 7.38337549e-13, 7.09240502e-13,\n",
              "        7.63797464e-13, 6.00126579e-13, 0.00000000e+00, 0.00000000e+00,\n",
              "        0.00000000e+00, 0.00000000e+00, 0.00000000e+00, 0.00000000e+00],\n",
              "       [0.00000000e+00, 0.00000000e+00, 0.00000000e+00, 0.00000000e+00,\n",
              "        0.00000000e+00, 0.00000000e+00, 0.00000000e+00, 1.70945147e-13,\n",
              "        8.18354426e-13, 6.98329110e-13, 7.78345987e-13, 7.38337549e-13,\n",
              "        7.49248941e-13, 7.41974679e-13, 7.41974679e-13, 7.45611810e-13,\n",
              "        7.49248941e-13, 7.41974679e-13, 7.71071726e-13, 7.16514764e-13,\n",
              "        7.92894510e-13, 3.89172994e-13, 0.00000000e+00, 0.00000000e+00,\n",
              "        0.00000000e+00, 0.00000000e+00, 0.00000000e+00, 0.00000000e+00],\n",
              "       [0.00000000e+00, 0.00000000e+00, 0.00000000e+00, 0.00000000e+00,\n",
              "        3.63713078e-15, 2.18227847e-14, 0.00000000e+00, 1.67308016e-13,\n",
              "        7.71071726e-13, 7.09240502e-13, 7.71071726e-13, 7.34700418e-13,\n",
              "        7.49248941e-13, 7.45611810e-13, 7.41974679e-13, 7.45611810e-13,\n",
              "        7.49248941e-13, 7.41974679e-13, 7.71071726e-13, 7.27426156e-13,\n",
              "        7.92894510e-13, 3.30978901e-13, 0.00000000e+00, 1.09113923e-14,\n",
              "        3.63713078e-15, 0.00000000e+00, 0.00000000e+00, 0.00000000e+00],\n",
              "       [0.00000000e+00, 0.00000000e+00, 0.00000000e+00, 0.00000000e+00,\n",
              "        0.00000000e+00, 3.63713078e-15, 0.00000000e+00, 4.00084386e-14,\n",
              "        7.16514764e-13, 7.23789026e-13, 7.45611810e-13, 7.34700418e-13,\n",
              "        7.45611810e-13, 7.49248941e-13, 7.41974679e-13, 7.45611810e-13,\n",
              "        7.52886072e-13, 7.41974679e-13, 7.45611810e-13, 7.45611810e-13,\n",
              "        7.92894510e-13, 2.80059070e-13, 0.00000000e+00, 1.81856539e-14,\n",
              "        0.00000000e+00, 0.00000000e+00, 0.00000000e+00, 0.00000000e+00],\n",
              "       [0.00000000e+00, 0.00000000e+00, 0.00000000e+00, 0.00000000e+00,\n",
              "        0.00000000e+00, 1.09113923e-14, 0.00000000e+00, 7.27426156e-15,\n",
              "        6.94691979e-13, 7.20151895e-13, 7.31063287e-13, 7.45611810e-13,\n",
              "        7.49248941e-13, 7.45611810e-13, 7.45611810e-13, 7.49248941e-13,\n",
              "        7.60160333e-13, 7.49248941e-13, 7.23789026e-13, 7.60160333e-13,\n",
              "        7.96531641e-13, 2.69147678e-13, 0.00000000e+00, 1.81856539e-14,\n",
              "        0.00000000e+00, 0.00000000e+00, 0.00000000e+00, 0.00000000e+00],\n",
              "       [0.00000000e+00, 0.00000000e+00, 0.00000000e+00, 0.00000000e+00,\n",
              "        0.00000000e+00, 7.27426156e-15, 0.00000000e+00, 0.00000000e+00,\n",
              "        6.83780587e-13, 7.16514764e-13, 7.27426156e-13, 7.52886072e-13,\n",
              "        7.52886072e-13, 7.41974679e-13, 7.52886072e-13, 7.52886072e-13,\n",
              "        7.63797464e-13, 7.56523203e-13, 7.20151895e-13, 7.52886072e-13,\n",
              "        8.03805903e-13, 2.61873416e-13, 0.00000000e+00, 1.45485231e-14,\n",
              "        0.00000000e+00, 0.00000000e+00, 0.00000000e+00, 0.00000000e+00],\n",
              "       [0.00000000e+00, 0.00000000e+00, 0.00000000e+00, 0.00000000e+00,\n",
              "        0.00000000e+00, 7.27426156e-15, 0.00000000e+00, 0.00000000e+00,\n",
              "        7.81983118e-13, 7.20151895e-13, 7.38337549e-13, 7.49248941e-13,\n",
              "        7.56523203e-13, 7.45611810e-13, 7.52886072e-13, 7.52886072e-13,\n",
              "        7.63797464e-13, 7.56523203e-13, 7.27426156e-13, 7.34700418e-13,\n",
              "        8.07443033e-13, 2.72784809e-13, 0.00000000e+00, 1.45485231e-14,\n",
              "        0.00000000e+00, 0.00000000e+00, 0.00000000e+00, 0.00000000e+00],\n",
              "       [0.00000000e+00, 0.00000000e+00, 0.00000000e+00, 0.00000000e+00,\n",
              "        0.00000000e+00, 3.63713078e-15, 0.00000000e+00, 0.00000000e+00,\n",
              "        7.71071726e-13, 7.20151895e-13, 7.60160333e-13, 7.49248941e-13,\n",
              "        7.60160333e-13, 7.49248941e-13, 7.56523203e-13, 7.52886072e-13,\n",
              "        7.67434595e-13, 7.49248941e-13, 7.45611810e-13, 7.20151895e-13,\n",
              "        8.03805903e-13, 2.90970463e-13, 0.00000000e+00, 1.09113923e-14,\n",
              "        0.00000000e+00, 0.00000000e+00, 0.00000000e+00, 0.00000000e+00],\n",
              "       [0.00000000e+00, 0.00000000e+00, 0.00000000e+00, 0.00000000e+00,\n",
              "        0.00000000e+00, 3.63713078e-15, 0.00000000e+00, 0.00000000e+00,\n",
              "        7.41974679e-13, 7.31063287e-13, 7.45611810e-13, 7.56523203e-13,\n",
              "        7.52886072e-13, 7.45611810e-13, 7.67434595e-13, 7.45611810e-13,\n",
              "        7.63797464e-13, 7.63797464e-13, 7.60160333e-13, 7.09240502e-13,\n",
              "        8.03805903e-13, 3.49164555e-13, 0.00000000e+00, 1.09113923e-14,\n",
              "        0.00000000e+00, 0.00000000e+00, 0.00000000e+00, 0.00000000e+00],\n",
              "       [0.00000000e+00, 0.00000000e+00, 0.00000000e+00, 0.00000000e+00,\n",
              "        0.00000000e+00, 3.63713078e-15, 0.00000000e+00, 0.00000000e+00,\n",
              "        7.34700418e-13, 7.31063287e-13, 7.45611810e-13, 7.60160333e-13,\n",
              "        7.52886072e-13, 7.45611810e-13, 7.74708856e-13, 7.49248941e-13,\n",
              "        7.63797464e-13, 7.60160333e-13, 7.63797464e-13, 7.05603372e-13,\n",
              "        7.89257380e-13, 3.81898732e-13, 0.00000000e+00, 7.27426156e-15,\n",
              "        0.00000000e+00, 0.00000000e+00, 0.00000000e+00, 0.00000000e+00],\n",
              "       [0.00000000e+00, 0.00000000e+00, 0.00000000e+00, 0.00000000e+00,\n",
              "        0.00000000e+00, 3.63713078e-15, 0.00000000e+00, 0.00000000e+00,\n",
              "        7.41974679e-13, 7.41974679e-13, 7.45611810e-13, 7.56523203e-13,\n",
              "        7.52886072e-13, 7.45611810e-13, 7.81983118e-13, 7.52886072e-13,\n",
              "        7.63797464e-13, 7.56523203e-13, 7.67434595e-13, 7.01966241e-13,\n",
              "        7.74708856e-13, 4.18270040e-13, 0.00000000e+00, 7.27426156e-15,\n",
              "        0.00000000e+00, 0.00000000e+00, 0.00000000e+00, 0.00000000e+00],\n",
              "       [0.00000000e+00, 0.00000000e+00, 0.00000000e+00, 0.00000000e+00,\n",
              "        0.00000000e+00, 0.00000000e+00, 0.00000000e+00, 0.00000000e+00,\n",
              "        7.41974679e-13, 7.52886072e-13, 7.52886072e-13, 7.56523203e-13,\n",
              "        7.49248941e-13, 7.49248941e-13, 7.81983118e-13, 7.63797464e-13,\n",
              "        7.63797464e-13, 7.52886072e-13, 7.71071726e-13, 7.09240502e-13,\n",
              "        7.63797464e-13, 4.29181432e-13, 0.00000000e+00, 7.27426156e-15,\n",
              "        0.00000000e+00, 0.00000000e+00, 0.00000000e+00, 0.00000000e+00],\n",
              "       [0.00000000e+00, 0.00000000e+00, 0.00000000e+00, 0.00000000e+00,\n",
              "        0.00000000e+00, 3.63713078e-15, 0.00000000e+00, 0.00000000e+00,\n",
              "        7.20151895e-13, 7.56523203e-13, 7.56523203e-13, 7.56523203e-13,\n",
              "        7.41974679e-13, 7.52886072e-13, 7.71071726e-13, 7.71071726e-13,\n",
              "        7.63797464e-13, 7.52886072e-13, 7.67434595e-13, 7.12877633e-13,\n",
              "        7.52886072e-13, 4.40092825e-13, 0.00000000e+00, 3.63713078e-15,\n",
              "        0.00000000e+00, 0.00000000e+00, 0.00000000e+00, 0.00000000e+00],\n",
              "       [0.00000000e+00, 0.00000000e+00, 0.00000000e+00, 0.00000000e+00,\n",
              "        0.00000000e+00, 3.63713078e-15, 0.00000000e+00, 0.00000000e+00,\n",
              "        7.20151895e-13, 7.63797464e-13, 7.52886072e-13, 7.56523203e-13,\n",
              "        7.49248941e-13, 7.60160333e-13, 7.74708856e-13, 7.71071726e-13,\n",
              "        7.67434595e-13, 7.52886072e-13, 7.63797464e-13, 7.16514764e-13,\n",
              "        7.52886072e-13, 4.51004217e-13, 0.00000000e+00, 3.63713078e-15,\n",
              "        0.00000000e+00, 0.00000000e+00, 0.00000000e+00, 0.00000000e+00],\n",
              "       [0.00000000e+00, 0.00000000e+00, 0.00000000e+00, 0.00000000e+00,\n",
              "        0.00000000e+00, 0.00000000e+00, 0.00000000e+00, 0.00000000e+00,\n",
              "        6.25586494e-13, 7.63797464e-13, 7.38337549e-13, 7.31063287e-13,\n",
              "        7.23789026e-13, 7.41974679e-13, 7.52886072e-13, 7.45611810e-13,\n",
              "        7.41974679e-13, 7.31063287e-13, 7.45611810e-13, 7.16514764e-13,\n",
              "        7.49248941e-13, 4.61915609e-13, 0.00000000e+00, 0.00000000e+00,\n",
              "        0.00000000e+00, 0.00000000e+00, 0.00000000e+00, 0.00000000e+00],\n",
              "       [0.00000000e+00, 0.00000000e+00, 0.00000000e+00, 0.00000000e+00,\n",
              "        0.00000000e+00, 0.00000000e+00, 0.00000000e+00, 0.00000000e+00,\n",
              "        6.83780587e-13, 8.03805903e-13, 7.78345987e-13, 8.51088603e-13,\n",
              "        8.58362864e-13, 8.65637126e-13, 8.87459911e-13, 8.87459911e-13,\n",
              "        8.87459911e-13, 8.72911388e-13, 8.83822780e-13, 7.78345987e-13,\n",
              "        8.14717295e-13, 5.89215187e-13, 0.00000000e+00, 7.27426156e-15,\n",
              "        0.00000000e+00, 0.00000000e+00, 0.00000000e+00, 0.00000000e+00],\n",
              "       [0.00000000e+00, 0.00000000e+00, 0.00000000e+00, 0.00000000e+00,\n",
              "        0.00000000e+00, 3.63713078e-15, 0.00000000e+00, 0.00000000e+00,\n",
              "        5.05561179e-13, 5.31021094e-13, 4.72827002e-13, 4.91012655e-13,\n",
              "        4.91012655e-13, 4.98286917e-13, 4.54641348e-13, 4.51004217e-13,\n",
              "        4.54641348e-13, 4.40092825e-13, 4.32818563e-13, 4.14632909e-13,\n",
              "        4.72827002e-13, 2.76421939e-13, 0.00000000e+00, 0.00000000e+00,\n",
              "        0.00000000e+00, 0.00000000e+00, 0.00000000e+00, 0.00000000e+00]])"
            ]
          },
          "metadata": {
            "tags": []
          },
          "execution_count": 32
        }
      ]
    },
    {
      "cell_type": "markdown",
      "metadata": {
        "id": "V6VJXk-TJArX"
      },
      "source": [
        "Building the Model <br>\n",
        "Now it's time to build the model! We are going to use a keras <b>Sequential model</b> with three different layers. This model represents a feed-forward neural network (one that passes values from left to right). We'll break down each layer and its architecture below."
      ]
    },
    {
      "cell_type": "code",
      "metadata": {
        "id": "qfFRB6ogJCyW"
      },
      "source": [
        "model = keras.Sequential([\n",
        "        keras.layers.Flatten(input_shape =(28,28)), #Input layer (1)\n",
        "        keras.layers.Dense(128, activation = 'relu'), #Hidden layer(2)\n",
        "        keras.layers.Dense(10, activation = 'softmax') #Output layer(3)\n",
        "        #output = activation(dot(input, kernel) + bias)\n",
        "])"
      ],
      "execution_count": 36,
      "outputs": []
    },
    {
      "cell_type": "markdown",
      "metadata": {
        "id": "kKi3OeA-LJVI"
      },
      "source": [
        "Layer 1: This is our input layer and it will conist of 784 neurons. We use the flatten layer with an input shape of (28,28) to denote that our input should come in in that shape. The flatten means that our layer will reshape the shape (28,28) array into a vector of 784 neurons so that each pixel will be associated with one neuron. <br>\n",
        "\n",
        "Layer 2: This is our first and only hidden layer. The dense denotes that this layer will be fully connected and each neuron from the previous layer connects to each neuron of this layer. It has 128 neurons and uses the rectify linear unit activation function. <br>\n",
        "\n",
        "Layer 3: This is our output later and is also a dense layer. It has 10 neurons that we will look at to determine our models output. Each neuron represnts the probabillity of a given image being one of the 10 different classes. The activation function softmax is used on this layer to calculate a probabillity distribution for each class. This means the value of any neuron in this layer will be between 0 and 1, where 1 represents a high probabillity of the image being that class."
      ]
    },
    {
      "cell_type": "markdown",
      "metadata": {
        "id": "4PC4YhjhTryn"
      },
      "source": [
        "Compile the Model <br>\n",
        "The last step in building the model is to define the loss function, optimizer and metrics we would like to track. I won't go into detail about why we chose each of these right now."
      ]
    },
    {
      "cell_type": "code",
      "metadata": {
        "id": "VKGfPN_9Ttvu"
      },
      "source": [
        "model.compile(optimizer='adam',\n",
        "              loss='sparse_categorical_crossentropy',\n",
        "              metrics=['accuracy'])"
      ],
      "execution_count": 40,
      "outputs": []
    },
    {
      "cell_type": "markdown",
      "metadata": {
        "id": "a028H98uULZA"
      },
      "source": [
        "Training the Model <br>\n",
        "Now it's finally time to train the model. Since we've already done all the work on our data this step is as easy as calling a single method."
      ]
    },
    {
      "cell_type": "code",
      "metadata": {
        "id": "HP0PnIKZUMAV",
        "outputId": "18651c3a-6160-472a-b320-8df0c8d23c30",
        "colab": {
          "base_uri": "https://localhost:8080/"
        }
      },
      "source": [
        "model.fit(train_images, train_labels,epochs=10) # we pass the data, labels and epochs and watch the magic!"
      ],
      "execution_count": 56,
      "outputs": [
        {
          "output_type": "stream",
          "text": [
            "Epoch 1/10\n",
            "1875/1875 [==============================] - 3s 2ms/step - loss: 2.3028 - accuracy: 0.0983\n",
            "Epoch 2/10\n",
            "1875/1875 [==============================] - 3s 2ms/step - loss: 2.3028 - accuracy: 0.0980\n",
            "Epoch 3/10\n",
            "1875/1875 [==============================] - 3s 2ms/step - loss: 2.3027 - accuracy: 0.0984\n",
            "Epoch 4/10\n",
            "1875/1875 [==============================] - 3s 2ms/step - loss: 2.3028 - accuracy: 0.0995\n",
            "Epoch 5/10\n",
            "1875/1875 [==============================] - 3s 2ms/step - loss: 2.3028 - accuracy: 0.0973\n",
            "Epoch 6/10\n",
            "1875/1875 [==============================] - 3s 2ms/step - loss: 2.3028 - accuracy: 0.0981\n",
            "Epoch 7/10\n",
            "1875/1875 [==============================] - 3s 2ms/step - loss: 2.3028 - accuracy: 0.0997\n",
            "Epoch 8/10\n",
            "1875/1875 [==============================] - 3s 2ms/step - loss: 2.3028 - accuracy: 0.0997\n",
            "Epoch 9/10\n",
            "1875/1875 [==============================] - 3s 2ms/step - loss: 2.3028 - accuracy: 0.0987\n",
            "Epoch 10/10\n",
            "1875/1875 [==============================] - 3s 2ms/step - loss: 2.3028 - accuracy: 0.0992\n"
          ],
          "name": "stdout"
        },
        {
          "output_type": "execute_result",
          "data": {
            "text/plain": [
              "<tensorflow.python.keras.callbacks.History at 0x7f7d8b1e12b0>"
            ]
          },
          "metadata": {
            "tags": []
          },
          "execution_count": 56
        }
      ]
    },
    {
      "cell_type": "markdown",
      "metadata": {
        "id": "3lfMzkrhU5C3"
      },
      "source": [
        "Evaluating the Model <br>\n",
        "Now it's time to test/evaluate the model. We can do this quite easily using another builtin method from keras. <br>\n",
        "\n",
        "The verbose argument is defined from the keras documentation as: \"verbose: 0 or 1. Verbosity mode. 0 = silent, 1 = progress bar.\" (https://keras.io/models/sequential/)"
      ]
    },
    {
      "cell_type": "code",
      "metadata": {
        "id": "9MFQMML2U8mW",
        "outputId": "95751752-0456-4c05-db6a-1e0c65725f9b",
        "colab": {
          "base_uri": "https://localhost:8080/"
        }
      },
      "source": [
        "test_loss, test_acc = model.evaluate(test_images,  test_labels, verbose=1) \n",
        "\n",
        "print('Test accuracy:', test_acc)"
      ],
      "execution_count": 57,
      "outputs": [
        {
          "output_type": "stream",
          "text": [
            "313/313 [==============================] - 0s 928us/step - loss: 2.3027 - accuracy: 0.1000\n",
            "Test accuracy: 0.10000000149011612\n"
          ],
          "name": "stdout"
        }
      ]
    },
    {
      "cell_type": "markdown",
      "metadata": {
        "id": "G3Ua1D3XVotX"
      },
      "source": [
        "You'll likely notice that the accuracy here is lower than when training the model. This difference is reffered to as overfitting. <br>\n",
        "\n",
        "And now we have a trained model that's ready to use to predict some values!"
      ]
    },
    {
      "cell_type": "markdown",
      "metadata": {
        "id": "3E-S9wexWsLo"
      },
      "source": [
        "Making Predictions<br>\n",
        "To make predictions we simply need to pass an array of data in the form we've specified in the input layer to .predict() method."
      ]
    },
    {
      "cell_type": "code",
      "metadata": {
        "id": "T6pxCAMTWuM2"
      },
      "source": [
        "predictions = model.predict(test_images)"
      ],
      "execution_count": 58,
      "outputs": []
    },
    {
      "cell_type": "markdown",
      "metadata": {
        "id": "b1Do-x5iW0pt"
      },
      "source": [
        "This method returns to us an array of predictions for each image we passed it. Let's have a look at the predictions for image 1."
      ]
    },
    {
      "cell_type": "code",
      "metadata": {
        "id": "4cGOoEaZVrPK",
        "outputId": "9b8c2e0a-ee88-4665-d8de-f3b668b61eeb",
        "colab": {
          "base_uri": "https://localhost:8080/"
        }
      },
      "source": [
        "predictions[0]"
      ],
      "execution_count": 59,
      "outputs": [
        {
          "output_type": "execute_result",
          "data": {
            "text/plain": [
              "array([0.10151142, 0.09820374, 0.09962195, 0.10114044, 0.09975599,\n",
              "       0.10040347, 0.10170932, 0.09952913, 0.09724867, 0.10087588],\n",
              "      dtype=float32)"
            ]
          },
          "metadata": {
            "tags": []
          },
          "execution_count": 59
        }
      ]
    },
    {
      "cell_type": "markdown",
      "metadata": {
        "id": "gaPAqhMYW962"
      },
      "source": [
        "If we wan't to get the value with the highest score we can use a useful function from numpy called argmax(). <br> This simply returns the index of the maximium value from a numpy array."
      ]
    },
    {
      "cell_type": "code",
      "metadata": {
        "id": "-geibFr2W-tn",
        "outputId": "6f27ae44-b15c-4ebd-b5e6-1f708568e705",
        "colab": {
          "base_uri": "https://localhost:8080/"
        }
      },
      "source": [
        "np.argmax(predictions[0])"
      ],
      "execution_count": 60,
      "outputs": [
        {
          "output_type": "execute_result",
          "data": {
            "text/plain": [
              "6"
            ]
          },
          "metadata": {
            "tags": []
          },
          "execution_count": 60
        }
      ]
    },
    {
      "cell_type": "markdown",
      "metadata": {
        "id": "MgfVQcDhXR9k"
      },
      "source": [
        "And we can check if this is correct by looking at the value of the cooresponding test label."
      ]
    },
    {
      "cell_type": "code",
      "metadata": {
        "id": "YcCtP4mMXSzk",
        "outputId": "f11066fb-f5fa-4a07-d269-c92bd5383c61",
        "colab": {
          "base_uri": "https://localhost:8080/"
        }
      },
      "source": [
        "test_labels[0]"
      ],
      "execution_count": 61,
      "outputs": [
        {
          "output_type": "execute_result",
          "data": {
            "text/plain": [
              "9"
            ]
          },
          "metadata": {
            "tags": []
          },
          "execution_count": 61
        }
      ]
    },
    {
      "cell_type": "markdown",
      "metadata": {
        "id": "GF4uUqSTXiQb"
      },
      "source": [
        "Verifying Predictions <br>\n",
        "I've written a small function here to help us verify predictions with some simple visuals."
      ]
    },
    {
      "cell_type": "code",
      "metadata": {
        "id": "jXzafjuEcNYK",
        "outputId": "5a8824f2-09c5-4faa-9b21-f14a767b9dbe",
        "colab": {
          "base_uri": "https://localhost:8080/",
          "height": 313
        }
      },
      "source": [
        "COLOR = 'white'\n",
        "plt.rcParams['text.color'] = COLOR\n",
        "plt.rcParams['axes.labelcolor'] = COLOR\n",
        "\n",
        "def predict(model, image, correct_label):\n",
        "  class_names = ['T-shirt/top', 'Trouser', 'Pullover', 'Dress', 'Coat',\n",
        "               'Sandal', 'Shirt', 'Sneaker', 'Bag', 'Ankle boot']\n",
        "  prediction = model.predict(np.array([image]))\n",
        "  predicted_class = class_names[np.argmax(prediction)]\n",
        "\n",
        "  show_image(image, class_names[correct_label], predicted_class)\n",
        "\n",
        "\n",
        "def show_image(img, label, guess):\n",
        "  plt.figure()\n",
        "  plt.imshow(img, cmap=plt.cm.binary)\n",
        "  plt.title(\"Excpected: \" + label)\n",
        "  plt.xlabel(\"Guess: \" + guess)\n",
        "  plt.colorbar()\n",
        "  plt.grid(False)\n",
        "  plt.show()\n",
        "\n",
        "\n",
        "def get_number():\n",
        "  while True:\n",
        "    num = input(\"Pick a number: \")\n",
        "    if num.isdigit():\n",
        "      num = int(num)\n",
        "      if 0 <= num <= 1000:\n",
        "        return int(num)\n",
        "    else:\n",
        "      print(\"Try again...\")\n",
        "\n",
        "num = get_number()\n",
        "image = test_images[num]\n",
        "label = test_labels[num]\n",
        "predict(model, image, label)"
      ],
      "execution_count": 62,
      "outputs": [
        {
          "output_type": "stream",
          "text": [
            "Pick a number: 9\n"
          ],
          "name": "stdout"
        },
        {
          "output_type": "display_data",
          "data": {
            "image/png": "[encoded data removed]",
            "text/plain": [
              "<Figure size 432x288 with 2 Axes>"
            ]
          },
          "metadata": {
            "tags": [],
            "needs_background": "light"
          }
        }
      ]
    },
    {
      "cell_type": "markdown",
      "metadata": {
        "id": "LTQo9KmFH53Q"
      },
      "source": [
        ""
      ]
    }
  ]
}